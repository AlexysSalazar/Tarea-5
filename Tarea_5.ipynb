{
  "nbformat": 4,
  "nbformat_minor": 0,
  "metadata": {
    "colab": {
      "name": "Tarea 5.ipynb",
      "provenance": []
    },
    "kernelspec": {
      "name": "python3",
      "display_name": "Python 3"
    },
    "language_info": {
      "name": "python"
    }
  },
  "cells": [
    {
      "cell_type": "markdown",
      "metadata": {
        "id": "6DsaxXUO2htA"
      },
      "source": [
        "# Problema 1"
      ]
    },
    {
      "cell_type": "code",
      "metadata": {
        "id": "kNikrCR10oJy"
      },
      "source": [
        "num = int(input(\"Escribe un número entero: \"))\n",
        "num2 = int(input(\"Escribe otro número entero: \"))\n",
        "if num > num2 :\n",
        "    print(f\"El número mayor es {num}\")\n",
        "    print(f\"Y el número menor es {num2}\")\n",
        "elif num == num2 :\n",
        "    print(\"Ambos números son iguales\")\n",
        "else:\n",
        "    print(f\"El número mayor es {num2}\")\n",
        "    print(f\"El número menor es {num}\")"
      ],
      "execution_count": null,
      "outputs": []
    },
    {
      "cell_type": "markdown",
      "metadata": {
        "id": "FUojxZgt2nkv"
      },
      "source": [
        "#Problema 2"
      ]
    },
    {
      "cell_type": "code",
      "metadata": {
        "id": "8zZWxFPG2pt2"
      },
      "source": [
        "num1 = int(input(\"Escribe un número entero: \"))\n",
        "num2 = int(input(\"Escribe un número entero diferente: \"))\n",
        "num3 = int(input(\"Escribe otro número entero diferente: \"))\n",
        "if num1 > num2:\n",
        "    if num1 > num3:\n",
        "        print(f\"El número mayor es {num1}\")\n",
        "    else:\n",
        "        print(f\"El número mayor es {num3}\")\n",
        "elif num2 > num3:\n",
        "    print(f\"El numero mayor es {num2}\")\n",
        "else:\n",
        "    print(f\"El número mayor es {num3}\")"
      ],
      "execution_count": null,
      "outputs": []
    },
    {
      "cell_type": "markdown",
      "metadata": {
        "id": "aYrd9ii72qBj"
      },
      "source": [
        "#Problema 3"
      ]
    },
    {
      "cell_type": "code",
      "metadata": {
        "colab": {
          "base_uri": "https://localhost:8080/"
        },
        "id": "vuNKs_Oh2scZ",
        "outputId": "6bc022ac-bc30-4ead-9fb0-3c099a012bd8"
      },
      "source": [
        "num1 = int(input(\"Escribe un número entero: \"))\n",
        "num2 = int(input(\"Escribe un número entero diferente: \"))\n",
        "num3 = int(input(\"Escribe otro número entero diferente: \"))\n",
        "if num1 < num2:\n",
        "    if num1 < num3:\n",
        "        print(f\"El número menor es {num1}\")\n",
        "    else:\n",
        "        print(f\"El número menor es {num3}\")\n",
        "elif num2 < num3:\n",
        "    print(f\"El numero menor es {num2}\")\n",
        "else:\n",
        "    print(f\"El número menor es {num3}\")"
      ],
      "execution_count": 2,
      "outputs": [
        {
          "output_type": "stream",
          "name": "stdout",
          "text": [
            "Escribe un número entero: 5\n",
            "Escribe un número entero diferente: 6\n",
            "Escribe otro número entero diferente: 46\n",
            "El número menor es 5\n"
          ]
        }
      ]
    },
    {
      "cell_type": "markdown",
      "metadata": {
        "id": "11EY5jPt2uO5"
      },
      "source": [
        "#Problema 4"
      ]
    },
    {
      "cell_type": "code",
      "metadata": {
        "id": "0f-s2UEz2tmC"
      },
      "source": [
        "print(\"Escribe 4 números diferentes entre si:\")\n",
        "num1 = int(input(\"Número 1: \"))\n",
        "num2 = int(input(\"Número 2: \"))\n",
        "num3 = int(input(\"Número 3: \"))\n",
        "num4 = int(input(\"Número 4: \"))\n",
        "if num1 > num2:\n",
        "    if num1 > num3:\n",
        "        if num1 > num4:\n",
        "            print(f\"El número mayor es {num1}\")\n",
        "        else:\n",
        "            print(f\"El número mayor es {num4}\")\n",
        "    elif num3 > num4:\n",
        "        print(f\"El número mayor es {num3}\")\n",
        "    else:\n",
        "        print(f\"El número mayor es {num4}\")      \n",
        "else:\n",
        "    if num2 > num3:\n",
        "        if num2 > num4:\n",
        "            print(f\"El número mayor es {num2}\")\n",
        "        else:\n",
        "            print(f\"El número mayor es {num4}\")\n",
        "    elif num3 > num4:\n",
        "        print(f\"El número mayor es {num3}\")\n",
        "    else:\n",
        "        print(f\"El número mayor es {num4}\")\n",
        "if num1 < num2:\n",
        "    if num1 < num3:\n",
        "        if num1 < num4:\n",
        "            print(f\"Y el número menor es {num1}\")\n",
        "        else:\n",
        "            print(f\"Y el número menor es {num4}\")\n",
        "    elif num3 < num4:\n",
        "        print(f\"Y el número menor es {num3}\")\n",
        "    else:\n",
        "        print(f\"Y el número menor es {num4}\")      \n",
        "else:\n",
        "    if num2 < num3:\n",
        "        if num2 < num4:\n",
        "            print(f\"Y el número menor es {num2}\")\n",
        "        else:\n",
        "            print(f\"Y el número menor es {num4}\")\n",
        "    elif num3 < num4:\n",
        "        print(f\"El número mayor es {num3}\")\n",
        "    else:\n",
        "        print(f\"Y el número menor es {num4}\")"
      ],
      "execution_count": null,
      "outputs": []
    }
  ]
}